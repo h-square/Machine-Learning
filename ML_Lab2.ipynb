{
  "nbformat": 4,
  "nbformat_minor": 0,
  "metadata": {
    "kernelspec": {
      "display_name": "Python 3",
      "language": "python",
      "name": "python3"
    },
    "language_info": {
      "codemirror_mode": {
        "name": "ipython",
        "version": 3
      },
      "file_extension": ".py",
      "mimetype": "text/x-python",
      "name": "python",
      "nbconvert_exporter": "python",
      "pygments_lexer": "ipython3",
      "version": "3.7.3"
    },
    "colab": {
      "name": "ML_Lab2.ipynb",
      "provenance": []
    }
  },
  "cells": [
    {
      "cell_type": "code",
      "metadata": {
        "id": "jDJ1shHX5p_c",
        "colab_type": "code",
        "outputId": "502974d3-deae-4091-dcdd-58adc1a0544c",
        "colab": {
          "base_uri": "https://localhost:8080/",
          "height": 34
        }
      },
      "source": [
        "# question 1(a)\n",
        "\n",
        "import numpy as np\n",
        "import matplotlib.pyplot as plt\n",
        "\n",
        "theta = np.random.normal()\n",
        "\n",
        "prev = theta + 1;\n",
        "\n",
        "eps = 1e-6;\n",
        "alpha = 0.01;\n",
        "cnt = 0;\n",
        "\n",
        "while ( abs(theta-prev) >= eps ):\n",
        "\n",
        "    prev = theta;\n",
        "    theta = theta - alpha*(2*theta);\n",
        "    cnt = cnt + 1;\n",
        "\n",
        "print(theta)"
      ],
      "execution_count": 20,
      "outputs": [
        {
          "output_type": "stream",
          "text": [
            "4.835243892970475e-05\n"
          ],
          "name": "stdout"
        }
      ]
    },
    {
      "cell_type": "code",
      "metadata": {
        "id": "tq9fiycj5p_n",
        "colab_type": "code",
        "outputId": "96cf7980-f354-4d76-969b-1df09a854de3",
        "colab": {
          "base_uri": "https://localhost:8080/",
          "height": 34
        }
      },
      "source": [
        "# question 1(b)\n",
        "\n",
        "import numpy as np\n",
        "import matplotlib.pyplot as plt\n",
        "\n",
        "theta1 = np.random.normal()\n",
        "theta2 = np.random.normal()\n",
        "\n",
        "prev1 = theta1 + 1;\n",
        "prev2 = theta2 + 1;\n",
        "\n",
        "eps = 1e-6;\n",
        "alpha = 0.01;\n",
        "cnt = 0;\n",
        "\n",
        "while ( abs(theta1-prev1) >= eps or abs(theta2-prev2) >= eps ):\n",
        "\n",
        "    prev1 = theta1;\n",
        "    theta1 = theta1 - alpha*(2*theta1);\n",
        "    prev2 = theta2;\n",
        "    theta2 = theta2 - alpha*(2*theta2)\n",
        "    cnt = cnt + 1;\n",
        "\n",
        "print(theta1,theta2)"
      ],
      "execution_count": 21,
      "outputs": [
        {
          "output_type": "stream",
          "text": [
            "-4.85114947622611e-05 3.495185124222308e-05\n"
          ],
          "name": "stdout"
        }
      ]
    },
    {
      "cell_type": "code",
      "metadata": {
        "id": "ThsTKut65p_s",
        "colab_type": "code",
        "outputId": "7404c232-8b0a-4d43-80ce-79681a7d8b98",
        "colab": {
          "base_uri": "https://localhost:8080/",
          "height": 34
        }
      },
      "source": [
        "# question 1(c)\n",
        "\n",
        "import numpy as np\n",
        "import matplotlib.pyplot as plt\n",
        "\n",
        "theta = np.random.normal()\n",
        "\n",
        "prev = theta + 1;\n",
        "\n",
        "eps = 1e-6;\n",
        "alpha = 0.01;\n",
        "cnt = 0;\n",
        "\n",
        "while ( abs(theta-prev) >= eps):\n",
        "\n",
        "    prev = theta;\n",
        "    theta = theta - alpha*(2*(theta-1));\n",
        "    cnt = cnt + 1;\n",
        "\n",
        "print(theta)"
      ],
      "execution_count": 22,
      "outputs": [
        {
          "output_type": "stream",
          "text": [
            "0.9999514683574795\n"
          ],
          "name": "stdout"
        }
      ]
    },
    {
      "cell_type": "code",
      "metadata": {
        "id": "MN2BvNuP5p_w",
        "colab_type": "code",
        "outputId": "a5c438bd-8de7-4899-a690-7906bf806611",
        "colab": {
          "base_uri": "https://localhost:8080/",
          "height": 34
        }
      },
      "source": [
        "# question 1(d)\n",
        "\n",
        "import numpy as np\n",
        "import matplotlib.pyplot as plt\n",
        "\n",
        "theta1 = np.random.normal()\n",
        "theta2 = np.random.normal()\n",
        "\n",
        "prev1 = theta1 + 1;\n",
        "prev2 = theta2 + 1;\n",
        "\n",
        "eps = 1e-6;\n",
        "alpha = 0.01;\n",
        "cnt = 0;\n",
        "\n",
        "while ( abs(theta1-prev1) >= eps or abs(theta2-prev2) >= eps ):\n",
        "\n",
        "    prev1 = theta1;\n",
        "    theta1 = theta1 - alpha*(4*(theta1-1));\n",
        "    prev2 = theta2;\n",
        "    theta2 = theta2 - alpha*(4*(theta2-1));\n",
        "    cnt = cnt + 1;\n",
        "\n",
        "print(theta1,theta2)"
      ],
      "execution_count": 23,
      "outputs": [
        {
          "output_type": "stream",
          "text": [
            "0.9999764485625394 1.000005011799169\n"
          ],
          "name": "stdout"
        }
      ]
    },
    {
      "cell_type": "code",
      "metadata": {
        "id": "eUTIa8hL5p_0",
        "colab_type": "code",
        "outputId": "24a01398-930e-4c41-e8bc-1ba233c9e4aa",
        "colab": {
          "base_uri": "https://localhost:8080/",
          "height": 34
        }
      },
      "source": [
        "# question 1(e)\n",
        "\n",
        "import pandas as pd\n",
        "\n",
        "df = pd.read_excel('data.xlsx');\n",
        "\n",
        "x = np.array(df['x'])\n",
        "y = np.array(df['y'])\n",
        "\n",
        "mean = np.mean(x)\n",
        "std = np.std(x);\n",
        "\n",
        "x = (x-mean)/std;\n",
        "\n",
        "theta1 = np.random.normal()\n",
        "theta2 = np.random.normal()\n",
        "\n",
        "prev1 = theta1 + 1;\n",
        "prev2 = theta2 + 1;\n",
        "\n",
        "eps = 1e-6;\n",
        "alpha = 0.01;\n",
        "cnt = 0;\n",
        "\n",
        "while ( abs(theta1-prev1) >= eps or abs(theta2-prev2) >= eps ):\n",
        "\n",
        "    prev1 = theta1;\n",
        "    prev2 = theta2;\n",
        "    \n",
        "    error1 = -2*np.sum(y - (theta1 + theta2*x));\n",
        "    error2 = -2*np.sum( np.multiply(y - (theta1 + theta2*x), x));\n",
        "    \n",
        "    theta1 = theta1 - alpha*(error1);\n",
        "    theta2 = theta2 - alpha*(error2);\n",
        "    \n",
        "    cnt = cnt + 1;\n",
        "\n",
        "print(theta1,theta2);"
      ],
      "execution_count": 24,
      "outputs": [
        {
          "output_type": "stream",
          "text": [
            "23.718085573367297 -6.866995602205812\n"
          ],
          "name": "stdout"
        }
      ]
    },
    {
      "cell_type": "code",
      "metadata": {
        "id": "6BQkeXSD5p_5",
        "colab_type": "code",
        "outputId": "93b06254-7337-4f67-8e57-fc39808c5ed1",
        "colab": {
          "base_uri": "https://localhost:8080/",
          "height": 34
        }
      },
      "source": [
        "# question 2\n",
        "\n",
        "import pandas as pd\n",
        "import random\n",
        "\n",
        "df = pd.read_excel('data.xlsx');\n",
        "\n",
        "x = np.array(df['x'])\n",
        "y = np.array(df['y'])\n",
        "\n",
        "mean = np.mean(x)\n",
        "std = np.std(x);\n",
        "\n",
        "x = (x-mean)/std;\n",
        "\n",
        "theta1 = np.random.normal()\n",
        "theta2 = np.random.normal()\n",
        "\n",
        "prev1 = theta1 + 1;\n",
        "prev2 = theta2 + 1;\n",
        "\n",
        "eps = 1e-6;\n",
        "alpha = 0.01;\n",
        "cnt = 0;\n",
        "\n",
        "while ( abs(prev1-theta1) >= eps or abs(prev2-theta2) >= eps):\n",
        "    \n",
        "    prev1 = theta1;\n",
        "    prev2 = theta2;\n",
        "    \n",
        "    ind = random.randint(0,len(x)-1);\n",
        "    \n",
        "    error1 = -2*(y[ind] - (theta1 + theta2*x[ind]));\n",
        "    error2 = -2*(y[ind] - (theta1 + theta2*x[ind]))*x[ind];\n",
        "    \n",
        "    theta1 = theta1 - alpha*error1;\n",
        "    theta2 = theta2 - alpha*error2;\n",
        "    \n",
        "print(theta1,theta2)"
      ],
      "execution_count": 25,
      "outputs": [
        {
          "output_type": "stream",
          "text": [
            "22.730673309583455 -6.212402145364657\n"
          ],
          "name": "stdout"
        }
      ]
    },
    {
      "cell_type": "code",
      "metadata": {
        "id": "X-5m8szO5qAD",
        "colab_type": "code",
        "outputId": "b77d3738-28e8-4ed6-bc96-df1e0175b420",
        "colab": {
          "base_uri": "https://localhost:8080/",
          "height": 34
        }
      },
      "source": [
        "#question 3(a)\n",
        "\n",
        "import numpy as np\n",
        "\n",
        "theta = np.random.normal();\n",
        "\n",
        "prev = theta + 1;\n",
        "eps = 1e-6;\n",
        "alpha = 0.1;\n",
        "cnt = 0;\n",
        "\n",
        "while ( abs(theta-prev) >= eps):\n",
        "    \n",
        "    prev = theta;\n",
        "    \n",
        "    alpha = alpha - (-4*prev*(prev - 2*alpha*prev))/((8*prev*prev) + eps);\n",
        "    \n",
        "    theta = theta - alpha*(2*theta);\n",
        "    \n",
        "    cnt = cnt + 1;\n",
        "    \n",
        "print(theta)"
      ],
      "execution_count": 26,
      "outputs": [
        {
          "output_type": "stream",
          "text": [
            "-5.2945319138608175e-12\n"
          ],
          "name": "stdout"
        }
      ]
    },
    {
      "cell_type": "code",
      "metadata": {
        "id": "yYa_vxR35qAH",
        "colab_type": "code",
        "outputId": "f71959b0-3969-45bc-c539-58f97066db1d",
        "colab": {
          "base_uri": "https://localhost:8080/",
          "height": 34
        }
      },
      "source": [
        "#question 3(a)\n",
        "\n",
        "import numpy as np\n",
        "\n",
        "theta1 = np.random.normal();\n",
        "theta2 = np.random.normal();\n",
        "\n",
        "prev1 = theta1 + 1;\n",
        "prev2 = theta2 + 1;\n",
        "\n",
        "eps = 1e-6;\n",
        "alpha = 0.1;\n",
        "cnt = 0;\n",
        "\n",
        "while ( abs(((theta1-prev1)**2 + (theta2-prev2)**2)**(1/2)) >= eps):\n",
        "    \n",
        "    prev1 = theta1;\n",
        "    prev2 = theta2;\n",
        "    \n",
        "    alpha = alpha - ( (-4*prev1*(prev1 - 2*alpha*prev1)) + (-4*prev2*(prev2 - 2*alpha*prev2)) )/((8*prev1*prev1) + (8*prev2*prev2) + eps);\n",
        "    \n",
        "    theta1 = theta1 - alpha*(2*theta1);\n",
        "    theta2 = theta2 - alpha*(2*theta2);\n",
        "    \n",
        "    cnt = cnt + 1;\n",
        "    \n",
        "print(theta1,theta2);"
      ],
      "execution_count": 27,
      "outputs": [
        {
          "output_type": "stream",
          "text": [
            "-8.342438138359004e-15 -5.264643544488809e-15\n"
          ],
          "name": "stdout"
        }
      ]
    },
    {
      "cell_type": "code",
      "metadata": {
        "id": "wIbRW5eY5qAL",
        "colab_type": "code",
        "outputId": "695d1f94-ca09-41da-9deb-b48e76f64df3",
        "colab": {
          "base_uri": "https://localhost:8080/",
          "height": 34
        }
      },
      "source": [
        "#question 3(c)\n",
        "\n",
        "import numpy as np\n",
        "\n",
        "theta = np.random.normal();\n",
        "\n",
        "prev = theta + 1;\n",
        "eps = 1e-6;\n",
        "alpha = 0.1;\n",
        "cnt = 0;\n",
        "\n",
        "while ( abs(theta-prev) >= eps):\n",
        "    \n",
        "    prev = theta;\n",
        "    \n",
        "    alpha = alpha - (-4*(prev-1)*(prev - 2*alpha*(prev-1)))/((8*(prev-1)*(prev-1)) + eps);\n",
        "    \n",
        "    theta = theta - alpha*(2*theta-2);\n",
        "    \n",
        "    cnt = cnt + 1;\n",
        "    \n",
        "print(theta)"
      ],
      "execution_count": 28,
      "outputs": [
        {
          "output_type": "stream",
          "text": [
            "3.717723446030827e-08\n"
          ],
          "name": "stdout"
        }
      ]
    },
    {
      "cell_type": "code",
      "metadata": {
        "id": "r--zJVeo5qAP",
        "colab_type": "code",
        "outputId": "bb8769c1-14db-44f9-86f5-c2848bb53ec2",
        "colab": {
          "base_uri": "https://localhost:8080/",
          "height": 34
        }
      },
      "source": [
        "#question 3(d)\n",
        "\n",
        "import numpy as np\n",
        "\n",
        "theta1 = np.random.normal();\n",
        "theta2 = np.random.normal();\n",
        "\n",
        "prev1 = theta1 + 1;\n",
        "prev2 = theta2 + 1;\n",
        "\n",
        "eps = 1e-6;\n",
        "alpha = 0.1;\n",
        "cnt = 0;\n",
        "\n",
        "while ( abs(theta1-prev1) >= eps or abs(theta2-prev2) >= eps):\n",
        "    \n",
        "    prev1 = theta1;\n",
        "    prev2 = theta2;\n",
        "    \n",
        "    alpha = alpha - ( (-4*(prev1-1)*(prev1 - 2*alpha*(prev1-1)))+ (-4*(prev2-1)*(prev2 - 2*alpha*(prev2-1))) ) / ((8*(prev1-1)*(prev1-1)) + (8*(prev2-1)*(prev2-1)) + eps);\n",
        "    \n",
        "    theta1 = theta1 - alpha*(2*theta1-2);\n",
        "    theta2 = theta2 - alpha*(2*theta2-2);\n",
        "    \n",
        "    cnt = cnt + 1;\n",
        "    \n",
        "print(theta1,theta2);"
      ],
      "execution_count": 29,
      "outputs": [
        {
          "output_type": "stream",
          "text": [
            "0.8051307288610835 -0.1378833592383487\n"
          ],
          "name": "stdout"
        }
      ]
    },
    {
      "cell_type": "code",
      "metadata": {
        "id": "iBt5r4ku5qAU",
        "colab_type": "code",
        "outputId": "e453e1f3-e41e-4146-ab48-37352d07f875",
        "colab": {
          "base_uri": "https://localhost:8080/",
          "height": 34
        }
      },
      "source": [
        "#question 3(e)\n",
        "\n",
        "import pandas as pd\n",
        "import random\n",
        "\n",
        "df = pd.read_excel('data.xlsx');\n",
        "\n",
        "x = np.array(df['x'])\n",
        "y = np.array(df['y'])\n",
        "\n",
        "mean = np.mean(x)\n",
        "std = np.std(x);\n",
        "\n",
        "x = (x-mean)/std;\n",
        "\n",
        "theta1 = np.random.normal()\n",
        "theta2 = np.random.normal()\n",
        "\n",
        "prev1 = theta1 + 1;\n",
        "prev2 = theta2 + 1;\n",
        "\n",
        "eps = 1e-6;\n",
        "alpha = 0.01;\n",
        "cnt = 0;\n",
        "\n",
        "while ( abs(prev1-theta1) >= eps or abs(prev2-theta2) >= eps):\n",
        "    \n",
        "    prev1 = theta1;\n",
        "    prev2 = theta2;\n",
        "    \n",
        "    error1 = -2*np.sum(y - (theta1 + theta2*x));\n",
        "    error2 = -2*np.sum( np.multiply(y - (theta1 + theta2*x), x));\n",
        "    \n",
        "    n1 = 2*np.sum( (y - (theta1+theta2*x) + alpha*(error1 + error2*x))*(error1+error2*x));\n",
        "    d1 = 2*np.sum( (error1 + error2*x)**2);\n",
        "    \n",
        "    alpha = alpha - n1/(d1+eps);\n",
        "    \n",
        "    theta1 = theta1 - alpha*(error1);\n",
        "    theta2 = theta2 - alpha*(error2);\n",
        "    \n",
        "print(theta1,theta2)"
      ],
      "execution_count": 30,
      "outputs": [
        {
          "output_type": "stream",
          "text": [
            "23.71808510638298 -6.866995447255381\n"
          ],
          "name": "stdout"
        }
      ]
    },
    {
      "cell_type": "code",
      "metadata": {
        "id": "TdvjMs_s5qAY",
        "colab_type": "code",
        "colab": {}
      },
      "source": [
        ""
      ],
      "execution_count": 0,
      "outputs": []
    }
  ]
}